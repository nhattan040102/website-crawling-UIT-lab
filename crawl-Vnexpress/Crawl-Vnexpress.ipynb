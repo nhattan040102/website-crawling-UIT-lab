{
  "nbformat": 4,
  "nbformat_minor": 0,
  "metadata": {
    "colab": {
      "name": "Untitled5.ipynb",
      "provenance": [],
      "collapsed_sections": []
    },
    "kernelspec": {
      "name": "python3",
      "display_name": "Python 3"
    },
    "language_info": {
      "name": "python"
    }
  },
  "cells": [
    {
      "cell_type": "code",
      "execution_count": null,
      "metadata": {
        "id": "kjs52FLJgxWu"
      },
      "outputs": [],
      "source": [
        "!pip install selenium\n",
        "!apt-get update # to update ubuntu to correctly run apt install\n",
        "!apt install chromium-chromedriver\n",
        "!cp /usr/lib/chromium-browser/chromedriver /usr/bin\n",
        "import sys\n",
        "sys.path.insert(0,'/usr/lib/chromium-browser/chromedriver')\n",
        "from selenium import webdriver\n",
        "from bs4 import BeautifulSoup\n",
        "from selenium.webdriver.common.keys import Keys\n",
        "from selenium.webdriver.common.by import By\n",
        "from selenium.webdriver.support.ui import WebDriverWait\n",
        "from selenium.webdriver.support import expected_conditions as EC\n",
        "import time"
      ]
    },
    {
      "cell_type": "code",
      "source": [
        "import csv"
      ],
      "metadata": {
        "id": "AajuNpjzSiBc"
      },
      "execution_count": 21,
      "outputs": []
    },
    {
      "cell_type": "code",
      "source": [
        "#Set up selenium in google collab\n",
        "chrome_options = webdriver.ChromeOptions()\n",
        "chrome_options.add_argument('--headless')\n",
        "chrome_options.add_argument('--no-sandbox')\n",
        "chrome_options.add_argument('--disable-dev-shm-usage')\n",
        "driver = webdriver.Chrome('chromedriver',chrome_options=chrome_options)"
      ],
      "metadata": {
        "colab": {
          "base_uri": "https://localhost:8080/"
        },
        "id": "jMDJfLYqg3w7",
        "outputId": "becd761d-8478-48ff-cde8-8c7fc7328eb3"
      },
      "execution_count": 2,
      "outputs": [
        {
          "output_type": "stream",
          "name": "stderr",
          "text": [
            "/usr/local/lib/python3.7/dist-packages/ipykernel_launcher.py:6: DeprecationWarning: use options instead of chrome_options\n",
            "  \n"
          ]
        }
      ]
    },
    {
      "cell_type": "code",
      "source": [
        "#Ket noi voi trang chu cua website vnexpress\n",
        "driver.get(\"https://timkiem.vnexpress.net/\")"
      ],
      "metadata": {
        "id": "cOlZmfcOg5b4"
      },
      "execution_count": 3,
      "outputs": []
    },
    {
      "cell_type": "code",
      "source": [
        "driver.save_screenshot('anh_chup.png')"
      ],
      "metadata": {
        "colab": {
          "base_uri": "https://localhost:8080/"
        },
        "id": "Up1beMahhy4J",
        "outputId": "563d4168-5b8b-422d-be33-73e28b213523"
      },
      "execution_count": 28,
      "outputs": [
        {
          "output_type": "execute_result",
          "data": {
            "text/plain": [
              "True"
            ]
          },
          "metadata": {},
          "execution_count": 28
        }
      ]
    },
    {
      "cell_type": "code",
      "source": [
        "#Tim thanh tim kiem cua website để nhập từ khóa\n",
        "search_bar = driver.find_element(By.CSS_SELECTOR, \"input[name='search_q']\")\n",
        "\n",
        "# # Nguoi dung nhap ten cua tac gia can tim kiem\n",
        "key_word = input(\"Nhap tu khoa ban muon tim kiem \")\n",
        "\n",
        "# # Nhap ten ma nguoi dung vua nhap vao thanh tim kiem \n",
        "search_bar.clear()\n",
        "search_bar.send_keys(key_word)\n",
        "search_bar.send_keys(Keys.RETURN)"
      ],
      "metadata": {
        "colab": {
          "base_uri": "https://localhost:8080/"
        },
        "id": "AsYkiXHdg5jI",
        "outputId": "7cf144bf-983a-442e-ec4a-70a0b3fd47b0"
      },
      "execution_count": 4,
      "outputs": [
        {
          "name": "stdout",
          "output_type": "stream",
          "text": [
            "Nhap tu khoa ban muon tim kiem nga\n"
          ]
        }
      ]
    },
    {
      "cell_type": "code",
      "source": [
        "def get_news_links(driver):\n",
        "  links = []\n",
        "  soup = BeautifulSoup(driver.page_source)\n",
        "  articles = soup.find_all('article', class_=\"item-news item-news-common\")\n",
        "\n",
        "  count = 0\n",
        "  for article in articles:\n",
        "    if article.h3 != None:\n",
        "      url = article.h3.a['href']\n",
        "      links.append(url)\n",
        "      print(str(count) + \": \" + str(url))\n",
        "      count += 1\n",
        "  return links"
      ],
      "metadata": {
        "id": "91obaV1YvJqm"
      },
      "execution_count": 22,
      "outputs": []
    },
    {
      "cell_type": "code",
      "source": [
        "def crawl_data(news_links, writer):\n",
        "  print(\"\\nBegin to crawl data for each article\")\n",
        "  writer.writerow(['News title', 'Comments'])\n",
        "  for link in news_links:\n",
        "    comment_list = []\n",
        "    driver.get(link)\n",
        "    soup = BeautifulSoup(driver.page_source)\n",
        "    title = soup.find('h1', class_=\"title-detail\").text\n",
        "    print(\"Having already crawl article: \", title)\n",
        "\n",
        "    comments = soup.find_all('div', class_='comment_item width_common')\n",
        "    for comment in comments:\n",
        "      nick_name = comment.find('a', class_='nickname').text\n",
        "      comment_box = comment.find('div', class_='content-comment')\n",
        "      comment_text = comment_box.p.contents[1]\n",
        "      comment_list.append(comment_text)\n",
        "    writer.writerow([title, comment_list])\n",
        "    "
      ],
      "metadata": {
        "id": "Rpr2V1l1vSTV"
      },
      "execution_count": 92,
      "outputs": []
    },
    {
      "cell_type": "code",
      "source": [
        "news_links = get_news_links(driver)"
      ],
      "metadata": {
        "colab": {
          "base_uri": "https://localhost:8080/"
        },
        "id": "5CdzNYubvhlF",
        "outputId": "68349c53-0a0c-494c-ddb6-caed734f1694"
      },
      "execution_count": 25,
      "outputs": [
        {
          "output_type": "stream",
          "name": "stdout",
          "text": [
            "0: https://vnexpress.net/nga-canh-bao-ba-lan-4441888.html\n",
            "1: https://vnexpress.net/nga-va-ukraine-trao-doi-tu-binh-4443181.html\n",
            "2: https://vnexpress.net/my-muon-loai-nga-khoi-g20-4443174.html\n",
            "3: https://vnexpress.net/quan-chuc-nga-canh-bao-nato-4442869.html\n",
            "4: https://vnexpress.net/nga-truc-xuat-nha-ngoai-giao-my-4442669.html\n",
            "5: https://vnexpress.net/dung-khai-thac-duong-bay-den-nga-4442142.html\n",
            "6: https://vnexpress.net/nga-chan-facebook-twitter-4435046.html\n",
            "7: https://vnexpress.net/chien-luoc-ong-biden-ung-pho-nga-4441269.html\n",
            "8: https://vnexpress.net/trac-nghiem-hieu-biet-ve-nuoc-nga-4433911.html\n",
            "9: https://vnexpress.net/nga-canh-bao-lam-my-be-mat-4440155.html\n",
            "10: https://vnexpress.net/nga-co-the-nhan-bitcoin-khi-ban-dau-khi-4443288.html\n",
            "11: https://vnexpress.net/thomas-muller-nga-mu-truoc-barca-4441246.html\n",
            "12: https://vnexpress.net/nganh-nang-luong-nga-bat-dau-ngam-don-trung-phat-4443000.html\n",
            "13: https://vnexpress.net/my-ap-trung-phat-voi-hon-300-nghi-si-nga-4443123.html\n",
            "14: https://vnexpress.net/ba-tuan-chien-su-nga-ukraine-4439379.html\n",
            "15: https://vnexpress.net/nato-luc-duc-vi-xung-dot-nga-ukraine-4442689.html\n",
            "16: https://vnexpress.net/an-do-muon-mua-them-dau-nga-4439429.html\n",
            "17: https://vnexpress.net/nga-doi-chien-thuat-o-ukraine-4439266.html\n",
            "18: https://vnexpress.net/my-trung-phat-nga-4430792.html\n",
            "19: https://vnexpress.net/nga-tuyen-bo-kiem-soat-them-thanh-pho-ukraine-4443061.html\n",
            "20: https://vnexpress.net/nga-rut-khoi-hoi-dong-chau-au-4439256.html\n",
            "21: https://vnexpress.net/trung-quoc-lang-le-gom-dau-nga-gia-re-4442951.html\n",
            "22: https://vnexpress.net/nga-bi-canh-bao-vi-xin-dang-cai-euro-4442692.html\n",
            "23: https://vnexpress.net/dan-phao-tu-ukraine-roi-xuong-lanh-tho-nga-4442720.html\n"
          ]
        }
      ]
    },
    {
      "cell_type": "code",
      "source": [
        "file = open(key_word + '.csv', mode='w')\n",
        "writer = csv.writer(file, delimiter=',', quotechar='\"',\n",
        "                        quoting=csv.QUOTE_MINIMAL)\n",
        "crawl_data(news_links, writer)"
      ],
      "metadata": {
        "colab": {
          "base_uri": "https://localhost:8080/"
        },
        "id": "ionKrkr3UsXk",
        "outputId": "4935f0aa-eec0-4cab-aacc-54b65ec4cebf"
      },
      "execution_count": 93,
      "outputs": [
        {
          "output_type": "stream",
          "name": "stdout",
          "text": [
            "\n",
            "Begin to crawl data for each article\n",
            "Having already crawl article:  Nga cảnh báo Ba Lan\n",
            "Having already crawl article:  Nga và Ukraine trao đổi tù binh\n",
            "Having already crawl article:  Mỹ muốn loại Nga khỏi G20\n",
            "Having already crawl article:  Quan chức Nga cảnh báo NATO\n",
            "Having already crawl article:  Nga trục xuất nhà ngoại giao Mỹ\n",
            "Having already crawl article:  Dừng khai thác đường bay đến Nga\n",
            "Having already crawl article:  Nga chặn Facebook, Twitter\n",
            "Having already crawl article:  Chiến lược ông Biden ứng phó Nga\n",
            "Having already crawl article:  Trắc nghiệm hiểu biết về nước Nga\n",
            "Having already crawl article:  Nga cảnh báo làm Mỹ bẽ mặt\n",
            "Having already crawl article:  Nga có thể nhận Bitcoin khi bán dầu, khí\n",
            "Having already crawl article:  Thomas Muller ngả mũ trước Barca\n",
            "Having already crawl article:  Ngành năng lượng Nga bắt đầu ngấm đòn trừng phạt\n",
            "Having already crawl article:  Mỹ áp trừng phạt với hơn 300 nghị sĩ Nga\n",
            "Having already crawl article:  Ba tuần chiến sự Nga - Ukraine\n",
            "Having already crawl article:  NATO lục đục vì xung đột Nga - Ukraine\n",
            "Having already crawl article:  Ấn Độ muốn mua thêm dầu Nga\n",
            "Having already crawl article:  Nga đổi chiến thuật ở Ukraine\n",
            "Having already crawl article:  Mỹ trừng phạt Nga\n",
            "Having already crawl article:  Nga tuyên bố kiểm soát thêm thành phố Ukraine\n",
            "Having already crawl article:  Nga rút khỏi Hội đồng châu Âu\n",
            "Having already crawl article:  Trung Quốc lặng lẽ gom dầu Nga giá rẻ\n",
            "Having already crawl article:  Nga bị cảnh báo vì xin đăng cai Euro\n",
            "Having already crawl article:  Đạn pháo 'từ Ukraine rơi xuống lãnh thổ Nga'\n"
          ]
        }
      ]
    }
  ]
}